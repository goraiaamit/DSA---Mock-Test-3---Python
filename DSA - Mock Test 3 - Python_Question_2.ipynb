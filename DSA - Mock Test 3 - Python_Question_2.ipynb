{
 "cells": [
  {
   "cell_type": "code",
   "execution_count": 1,
   "id": "700912e9-71b1-49ee-965b-8f64c5a42e06",
   "metadata": {},
   "outputs": [],
   "source": [
    "queue = []\n",
    "\n",
    "# Enqueue operation to add elements to the queue\n",
    "def enqueue(element):\n",
    "    queue.append(element)\n",
    "\n",
    "# Dequeue operation to remove and return the front element from the queue\n",
    "def dequeue():\n",
    "    if not isEmpty():\n",
    "        return queue.pop(0)\n",
    "    else:\n",
    "        print(\"Queue is empty\")\n",
    "\n",
    "# Check if the queue is empty\n",
    "def isEmpty():\n",
    "    return len(queue) == 0\n"
   ]
  },
  {
   "cell_type": "code",
   "execution_count": 2,
   "id": "f44c16f0-50ae-417d-8292-f0c8bc440756",
   "metadata": {},
   "outputs": [],
   "source": [
    "enqueue(1)\n",
    "enqueue(2)\n",
    "enqueue(3)"
   ]
  },
  {
   "cell_type": "code",
   "execution_count": 3,
   "id": "a63b583a-4299-488c-b1f0-27e393586092",
   "metadata": {},
   "outputs": [
    {
     "name": "stdout",
     "output_type": "stream",
     "text": [
      "[1, 2, 3]\n"
     ]
    }
   ],
   "source": [
    "print(queue)"
   ]
  },
  {
   "cell_type": "code",
   "execution_count": 4,
   "id": "9ebcbd30-c635-46db-a133-a20f83e27a49",
   "metadata": {},
   "outputs": [
    {
     "name": "stdout",
     "output_type": "stream",
     "text": [
      "1\n"
     ]
    }
   ],
   "source": [
    "print(dequeue())"
   ]
  },
  {
   "cell_type": "code",
   "execution_count": 5,
   "id": "0520e190-bb13-468b-862a-30896bc7b59e",
   "metadata": {},
   "outputs": [
    {
     "name": "stdout",
     "output_type": "stream",
     "text": [
      "2\n"
     ]
    }
   ],
   "source": [
    "print(dequeue())"
   ]
  },
  {
   "cell_type": "code",
   "execution_count": 6,
   "id": "b0682e0a-a45b-4255-98b1-533d147b4f84",
   "metadata": {},
   "outputs": [
    {
     "name": "stdout",
     "output_type": "stream",
     "text": [
      "[3]\n"
     ]
    }
   ],
   "source": [
    "print(queue)"
   ]
  },
  {
   "cell_type": "code",
   "execution_count": 7,
   "id": "717832e6-3db9-4aae-a229-7849d2cbf47a",
   "metadata": {},
   "outputs": [
    {
     "name": "stdout",
     "output_type": "stream",
     "text": [
      "3\n"
     ]
    }
   ],
   "source": [
    "print(dequeue())"
   ]
  },
  {
   "cell_type": "code",
   "execution_count": 8,
   "id": "0512ce3c-47d9-43df-803e-27c5dfbe8c09",
   "metadata": {},
   "outputs": [
    {
     "name": "stdout",
     "output_type": "stream",
     "text": [
      "Queue is empty\n",
      "None\n"
     ]
    }
   ],
   "source": [
    "print(dequeue())"
   ]
  },
  {
   "cell_type": "code",
   "execution_count": null,
   "id": "df579070-5cc3-4b1a-adf4-83613df6e3e2",
   "metadata": {},
   "outputs": [],
   "source": []
  }
 ],
 "metadata": {
  "kernelspec": {
   "display_name": "Python 3 (ipykernel)",
   "language": "python",
   "name": "python3"
  },
  "language_info": {
   "codemirror_mode": {
    "name": "ipython",
    "version": 3
   },
   "file_extension": ".py",
   "mimetype": "text/x-python",
   "name": "python",
   "nbconvert_exporter": "python",
   "pygments_lexer": "ipython3",
   "version": "3.10.6"
  }
 },
 "nbformat": 4,
 "nbformat_minor": 5
}
