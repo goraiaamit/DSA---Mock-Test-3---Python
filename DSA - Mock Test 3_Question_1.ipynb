{
 "cells": [
  {
   "cell_type": "markdown",
   "id": "e7a0757a-11c6-457a-b3ce-e7634714eac6",
   "metadata": {},
   "source": [
    "# Implement a stack using a list in Python. Include the necessary methods such as push, pop, and isEmpty."
   ]
  },
  {
   "cell_type": "code",
   "execution_count": 1,
   "id": "534552c0-2f29-448c-9357-a98b9ea38438",
   "metadata": {},
   "outputs": [],
   "source": [
    "stack = []\n",
    "\n",
    "# Push operation to add elements to the stack\n",
    "def push(element):\n",
    "    stack.append(element)\n",
    "\n",
    "# Pop operation to remove and return the topmost element from the stack\n",
    "def pop():\n",
    "    if not isEmpty():\n",
    "        return stack.pop()\n",
    "    else:\n",
    "        print(\"Stack is empty\")\n",
    "\n",
    "# Check if the stack is empty\n",
    "def isEmpty():\n",
    "    return len(stack) == 0"
   ]
  },
  {
   "cell_type": "code",
   "execution_count": 2,
   "id": "c75bcbc9-11f5-4733-be19-db66bd0015f3",
   "metadata": {},
   "outputs": [],
   "source": [
    "push(1)"
   ]
  },
  {
   "cell_type": "code",
   "execution_count": 3,
   "id": "de1d9751-3174-4107-befe-0d04013ba1ce",
   "metadata": {},
   "outputs": [],
   "source": [
    "push(2)"
   ]
  },
  {
   "cell_type": "code",
   "execution_count": 4,
   "id": "53118ba5-ad32-41aa-947d-d0e60298684a",
   "metadata": {},
   "outputs": [],
   "source": [
    "push(3)"
   ]
  },
  {
   "cell_type": "code",
   "execution_count": 5,
   "id": "50e63c02-6d15-410b-bb69-144998c6fc2d",
   "metadata": {},
   "outputs": [
    {
     "name": "stdout",
     "output_type": "stream",
     "text": [
      "[1, 2, 3]\n"
     ]
    }
   ],
   "source": [
    "print(stack)"
   ]
  },
  {
   "cell_type": "code",
   "execution_count": 6,
   "id": "18e43ba6-89fd-456e-99e4-8770d4b6c3ed",
   "metadata": {},
   "outputs": [
    {
     "name": "stdout",
     "output_type": "stream",
     "text": [
      "3\n"
     ]
    }
   ],
   "source": [
    "print(pop())"
   ]
  },
  {
   "cell_type": "code",
   "execution_count": 7,
   "id": "8cbac88d-8303-4098-9af2-997bc6a6553b",
   "metadata": {},
   "outputs": [
    {
     "name": "stdout",
     "output_type": "stream",
     "text": [
      "[1, 2]\n"
     ]
    }
   ],
   "source": [
    "print(stack)"
   ]
  },
  {
   "cell_type": "code",
   "execution_count": 8,
   "id": "8556126d-5aee-4f23-ae81-e9ead2c19b1c",
   "metadata": {},
   "outputs": [
    {
     "name": "stdout",
     "output_type": "stream",
     "text": [
      "2\n"
     ]
    }
   ],
   "source": [
    "print(pop())"
   ]
  },
  {
   "cell_type": "code",
   "execution_count": 9,
   "id": "e793b6d9-aaf2-421d-b08a-4c052d06603c",
   "metadata": {},
   "outputs": [
    {
     "name": "stdout",
     "output_type": "stream",
     "text": [
      "1\n"
     ]
    }
   ],
   "source": [
    "print(pop())"
   ]
  },
  {
   "cell_type": "code",
   "execution_count": 10,
   "id": "cc8b6945-8a61-469e-8ee5-7f79d7a3ecf2",
   "metadata": {},
   "outputs": [
    {
     "name": "stdout",
     "output_type": "stream",
     "text": [
      "[]\n"
     ]
    }
   ],
   "source": [
    "print(stack)"
   ]
  },
  {
   "cell_type": "code",
   "execution_count": 11,
   "id": "85da6d56-a64f-484e-ac7c-077fe800c9c0",
   "metadata": {},
   "outputs": [
    {
     "name": "stdout",
     "output_type": "stream",
     "text": [
      "Stack is empty\n",
      "None\n"
     ]
    }
   ],
   "source": [
    "print(pop())"
   ]
  },
  {
   "cell_type": "code",
   "execution_count": null,
   "id": "00716347-cace-4af3-9d6e-2462881c70cf",
   "metadata": {},
   "outputs": [],
   "source": []
  }
 ],
 "metadata": {
  "kernelspec": {
   "display_name": "Python 3 (ipykernel)",
   "language": "python",
   "name": "python3"
  },
  "language_info": {
   "codemirror_mode": {
    "name": "ipython",
    "version": 3
   },
   "file_extension": ".py",
   "mimetype": "text/x-python",
   "name": "python",
   "nbconvert_exporter": "python",
   "pygments_lexer": "ipython3",
   "version": "3.10.6"
  }
 },
 "nbformat": 4,
 "nbformat_minor": 5
}
